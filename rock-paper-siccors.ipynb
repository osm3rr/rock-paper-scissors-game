{
 "cells": [
  {
   "cell_type": "markdown",
   "metadata": {},
   "source": [
    "# Piedra - papel o tijeras\n",
    "Diseñe el juego de piedra papel o tijeras, de forma que se puedan enfrentar dos jugadores. \n",
    "\n",
    "El juego debe permitir que cada jugador asigne su nombre y su respectiva opción.\n",
    "\n"
   ]
  },
  {
   "cell_type": "code",
   "execution_count": null,
   "metadata": {},
   "outputs": [],
   "source": [
    "## Piedra - papel o tijeras\n",
    "# Diseñe el juego de piedra papel o tijeras, de forma que se puedan enfrentar dos jugadores. \n",
    "# El juego debe permitir que cada jugador asigne su nombre y su respectiva opción.\n",
    "\n",
    "\n",
    "\n",
    "# ingreso de datos\n",
    "jugador_1 = input( \"Ingrese el nombre del jugador 1: \" )\n",
    "opcion_jugador_1 = input( \"Ingrese la opción del jugador 1: \" )\n",
    "\n",
    "jugador_2 = input( \"Ingrese el nombre del jugador 2: \" )\n",
    "opcion_jugador_2 = input( \"Ingrese la opción del jugador 2: \" )\n",
    "\n",
    "# Escenario 1: empate\n",
    "\n",
    "\n",
    "# Escenario 2: jugador 1: piedra - jugador 2: tijeras, ganda jugador 1 \n",
    "\n",
    "\n",
    "# Escenario 3: jugador 1: piedra - jugador 2: papel, ganda jugador 2\n",
    "\n",
    "\n",
    "# Escenario 4: jugador 1: papel - jugador 2: piedra, ganda jugador 1\n",
    "\n",
    "\n",
    "# Escenario 5: jugador 1: papel - jugador 2: tijeras, ganda jugador 2\n",
    "\n",
    "\n",
    "# Escenario 6: jugador 1: tijeras - jugador 2: papel, ganda jugador 1\n",
    "\n",
    "\n",
    "# Escenario 7: jugador 1: tijeras - jugador 2: piedra, ganda jugador 2\n",
    "\n",
    "\n",
    "# Escenario 8: algunos de los jugadores"
   ]
  },
  {
   "cell_type": "code",
   "execution_count": 1,
   "metadata": {},
   "outputs": [
    {
     "name": "stdout",
     "output_type": "stream",
     "text": [
      "Gana jose con piedra\n"
     ]
    }
   ],
   "source": [
    "## Piedra - papel o tijeras\n",
    "# Diseñe el juego de piedra papel o tijeras, de forma que se puedan enfrentar dos jugadores. \n",
    "# El juego debe permitir que cada jugador asigne su nombre y su respectiva opción.\n",
    "\n",
    "\n",
    "# ingreso de datos\n",
    "jugador_1 = input( \"Ingrese el nombre del jugador 1: \" )\n",
    "opcion_jugador_1 = input( \"Ingrese la opción del jugador 1: \" )\n",
    "\n",
    "jugador_2 = input( \"Ingrese el nombre del jugador 2: \" )\n",
    "opcion_jugador_2 = input( \"Ingrese la opción del jugador 2: \" )\n",
    "\n",
    "#************** parte 1 ****************\n",
    "# ***************************************\n",
    "\n",
    "# Escenario 1: empate\n",
    "if opcion_jugador_1 == opcion_jugador_2:\n",
    "    print( f'Hay empate con {opcion_jugador_1}' )\n",
    "\n",
    "\n",
    "# Escenario 2: jugador 1: piedra - jugador 2: tijeras, ganda jugador 1 \n",
    "elif ( opcion_jugador_1 == 'piedra' ) and ( opcion_jugador_2 == \"tijera\" ):\n",
    "    print( f'Gana {jugador_1} con {opcion_jugador_1}' )\n",
    "\n",
    "# Escenario 3: jugador 1: piedra - jugador 2: papel, ganda jugador 2\n",
    "elif ( opcion_jugador_1 == 'piedra' ) and ( opcion_jugador_2 == \"papel\" ):\n",
    "    print( f'Gana {jugador_2} con {opcion_jugador_2}' )\n",
    "\n",
    "\n",
    "#***************Parte 2 **************************\n",
    "#*************************************************\n",
    "\n",
    "# Escenario 4: jugador 1: papel - jugador 2: piedra, ganda jugador 1\n",
    "elif ( opcion_jugador_1 == 'papel' ) and ( opcion_jugador_2 == \"piedra\" ):\n",
    "    print( f'Gana {jugador_1} con {opcion_jugador_1}' )\n",
    "\n",
    "# Escenario 5: jugador 1: papel - jugador 2: tijeras, ganda jugador 2\n",
    "elif ( opcion_jugador_1 == 'papel' ) and ( opcion_jugador_2 == \"tijera\" ):\n",
    "    print( f'Gana {jugador_2} con {opcion_jugador_2}' )\n",
    "\n",
    "# Escenario 6: jugador 1: tijeras - jugador 2: papel, ganda jugador 1\n",
    "elif ( opcion_jugador_1 == 'tijera' ) and ( opcion_jugador_2 == \"papel\" ):\n",
    "    print( f'Gana {jugador_1} con {opcion_jugador_1}' )\n",
    "\n",
    "# Escenario 7: jugador 1: tijeras - jugador 2: piedra, ganda jugador 2\n",
    "elif ( opcion_jugador_1 == 'tijera' ) and ( opcion_jugador_2 == \"piedra\" ):\n",
    "    print( f'Gana {jugador_2} con {opcion_jugador_2}' )\n",
    "\n",
    "# Escenario 8: algunos de los jugadores ingresa una opción incorrepta.\n",
    "else:\n",
    "    print(\"Por favor ingrese una opción correcta\")"
   ]
  }
 ],
 "metadata": {
  "interpreter": {
   "hash": "3313d7862e35f23cb796a0d5e1a05f5386948db6518b51457360428deb8d3fb3"
  },
  "kernelspec": {
   "display_name": "Python 3.8.3 64-bit ('base': conda)",
   "language": "python",
   "name": "python3"
  },
  "language_info": {
   "codemirror_mode": {
    "name": "ipython",
    "version": 3
   },
   "file_extension": ".py",
   "mimetype": "text/x-python",
   "name": "python",
   "nbconvert_exporter": "python",
   "pygments_lexer": "ipython3",
   "version": "3.8.3"
  },
  "orig_nbformat": 4
 },
 "nbformat": 4,
 "nbformat_minor": 2
}
